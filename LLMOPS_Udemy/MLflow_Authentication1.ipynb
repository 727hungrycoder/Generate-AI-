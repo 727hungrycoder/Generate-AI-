{
  "nbformat": 4,
  "nbformat_minor": 0,
  "metadata": {
    "colab": {
      "provenance": []
    },
    "kernelspec": {
      "name": "python3",
      "display_name": "Python 3"
    },
    "language_info": {
      "name": "python"
    }
  },
  "cells": [
    {
      "cell_type": "code",
      "execution_count": null,
      "metadata": {
        "id": "gHuIszdfCSPD"
      },
      "outputs": [],
      "source": [
        "from mlflow.server import get_app_client\n",
        "import os\n",
        "\n",
        "tracking_uri = \"http://localhost:5000\"\n",
        "auth_client = get_app_client(\"basic-auth\", tracking_uri=tracking_uri)\n",
        "\n",
        "# Set username and password\n",
        "os.environ[\"MLFLOW_TRACKING_USERNAME\"] = \"admin\"\n",
        "os.environ[\"MLFLOW_TRACKING_PASSWORD\"] = \"password\"\n",
        "\n",
        "# Change password\n",
        "auth_client.update_user_password(username=\"admin\", password=\"6G*8!7p@TKmS\")"
      ]
    }
  ]
}